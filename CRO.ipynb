{
 "cells": [
  {
   "cell_type": "code",
   "execution_count": 64,
   "metadata": {},
   "outputs": [],
   "source": [
    "import os\n",
    "from openpyxl import load_workbook\n",
    "from openpyxl import Workbook"
   ]
  },
  {
   "cell_type": "code",
   "execution_count": 65,
   "metadata": {},
   "outputs": [],
   "source": [
    "def ler_planilha(caminho_arquivo, nome_aba):\n",
    "    wb = load_workbook(caminho_arquivo, data_only=True)\n",
    "    ws = wb[nome_aba]\n",
    "    valores_celulas = []\n",
    "\n",
    "    # Aqui você pode especificar as células que deseja ler\n",
    "    celulas_a_ler = ['C7', 'E20', 'K20',\n",
    "                     'D25', 'D26', 'D27','D28', 'J25', 'L25', 'C29',\n",
    "                     'C30', 'F29', 'F30', 'J29', 'J30', 'D31', 'I31',\n",
    "                     'L30', 'L31', 'D38', 'K38', 'D39', 'K39']\n",
    "\n",
    "    for celula in celulas_a_ler:\n",
    "        valor = ws[celula].value\n",
    "\n",
    "        if celula =='K20' and valor is None:\n",
    "            valor = ws['J20'].value\n",
    "\n",
    "        valores_celulas.append(valor)\n",
    "\n",
    "    return valores_celulas"
   ]
  },
  {
   "cell_type": "code",
   "execution_count": 66,
   "metadata": {},
   "outputs": [],
   "source": [
    "\n",
    "def main():\n",
    "    # Pasta onde estão os arquivos\n",
    "    pasta = 'C:/Users/PBOIS/Desktop/Kaizen Solda por Resistência/CROs/CROS excel'\n",
    "\n",
    "    # Nome da aba específica que você quer ler\n",
    "    nome_aba = 'CRO'\n",
    "\n",
    "    # Lista para armazenar os valores de todas as planilhas\n",
    "    valores_todas_planilhas = []\n",
    "\n",
    "    for arquivo in os.listdir(pasta):\n",
    "        if arquivo.endswith('.xlsx'):\n",
    "            caminho_arquivo = os.path.join(pasta, arquivo)\n",
    "\n",
    "            # Lê os valores da planilha\n",
    "            valores_planilha = ler_planilha(caminho_arquivo, nome_aba)\n",
    "            valores_todas_planilhas.append(valores_planilha)\n",
    "\n",
    "    # Escreve os valores em uma nova planilha\n",
    "    wb_nova = Workbook()\n",
    "    ws_nova = wb_nova.active\n",
    "\n",
    "    # Cabeçalho da nova planilha\n",
    "    cabecalho = ['N° Programa', 'Material', 'Espessura',\n",
    "                 'Corrente', 'Tempo Subida', 'Tempo Solda',\n",
    "                 'Rampa Descida', 'Força Solda', 'Força Forja',\n",
    "                 'Tempo Pré-Solda', 'Tempo Pós-Solda', 'Pausa', 'Tempo Forja',\n",
    "                 'Posição Aproximação', 'Posição Retorno', 'Diametro Barramento',\n",
    "                 'Profundidade Garganta', 'Posição Eletr. Superior',\n",
    "                 'Posição Eletr. Inferior', 'Média Ensaio', 'Média Especificada',\n",
    "                 'Mínimo Obtido', 'Mínimo Especificado']\n",
    "    ws_nova.append(cabecalho)\n",
    "\n",
    "    # Escreve os valores na nova planilha\n",
    "    for valores_planilha in valores_todas_planilhas:\n",
    "        ws_nova.append(valores_planilha)\n",
    "\n",
    "    # Salva a nova planilha\n",
    "    wb_nova.save('compilado CROs.xlsx')"
   ]
  },
  {
   "cell_type": "code",
   "execution_count": 67,
   "metadata": {},
   "outputs": [],
   "source": [
    "if __name__ == \"__main__\":\n",
    "    main()"
   ]
  }
 ],
 "metadata": {
  "kernelspec": {
   "display_name": ".venv",
   "language": "python",
   "name": "python3"
  },
  "language_info": {
   "codemirror_mode": {
    "name": "ipython",
    "version": 3
   },
   "file_extension": ".py",
   "mimetype": "text/x-python",
   "name": "python",
   "nbconvert_exporter": "python",
   "pygments_lexer": "ipython3",
   "version": "3.11.3"
  }
 },
 "nbformat": 4,
 "nbformat_minor": 2
}
